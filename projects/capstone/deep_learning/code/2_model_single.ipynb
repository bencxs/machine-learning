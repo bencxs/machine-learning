{
 "cells": [
  {
   "cell_type": "code",
   "execution_count": 1,
   "metadata": {
    "collapsed": true
   },
   "outputs": [],
   "source": [
    "from __future__ import print_function\n",
    "import numpy as np\n",
    "import tensorflow as tf\n",
    "from six.moves import cPickle as pickle\n",
    "from six.moves import range"
   ]
  },
  {
   "cell_type": "code",
   "execution_count": 2,
   "metadata": {
    "collapsed": false
   },
   "outputs": [
    {
     "name": "stdout",
     "output_type": "stream",
     "text": [
      "Training set dimensions:  (71257, 32, 32) (71257,)\n",
      "Validation set dimensions:  (6000, 32, 32) (6000,)\n",
      "Testing set dimensions:  (26032, 32, 32) (26032,)\n"
     ]
    }
   ],
   "source": [
    "# Read pickle file of preprocessed images\n",
    "\n",
    "pickle_file = 'SVHN_single.pickle'\n",
    "\n",
    "with open(pickle_file, 'rb') as f:\n",
    "    save = pickle.load(f)\n",
    "    X_train = save['train_features']\n",
    "    y_train = save['train_labels']\n",
    "    X_valid = save['valid_features']\n",
    "    y_valid = save['valid_labels']\n",
    "    X_test = save['test_features']\n",
    "    y_test = save['test_labels']\n",
    "    del save  # Hint to help gc free up memory\n",
    "\n",
    "print('Training set dimensions: ', X_train.shape, y_train.shape)\n",
    "print('Validation set dimensions: ', X_valid.shape, y_valid.shape)\n",
    "print('Testing set dimensions: ', X_test.shape, y_test.shape)"
   ]
  },
  {
   "cell_type": "code",
   "execution_count": 3,
   "metadata": {
    "collapsed": true
   },
   "outputs": [],
   "source": [
    "# Accuracy calculations\n",
    "def accuracy(predictions, labels):\n",
    "    return (100.0 * np.sum(np.argmax(predictions, 1) == np.argmax(labels, 1))\n",
    "          / predictions.shape[0])"
   ]
  },
  {
   "cell_type": "code",
   "execution_count": 4,
   "metadata": {
    "collapsed": false
   },
   "outputs": [
    {
     "name": "stdout",
     "output_type": "stream",
     "text": [
      "Training set dimensions: (71257, 32, 32, 1) (71257, 10)\n",
      "Validation set dimensions: (6000, 32, 32, 1) (6000, 10)\n",
      "Testing set dimensions: (26032, 32, 32, 1) (26032, 10)\n"
     ]
    }
   ],
   "source": [
    "# Reformatting the features and labels to prepare for model learning\n",
    "\n",
    "img_size = 32\n",
    "num_labels = 10\n",
    "num_channels = 1\n",
    "\n",
    "def reformat(X, y):\n",
    "    X = X.reshape((-1, img_size, img_size, num_channels)).astype(np.float32)\n",
    "    y =(np.arange(num_labels) == y[:,None]).astype(np.float32) \n",
    "    return X, y\n",
    "\n",
    "X_train, y_train = reformat(X_train, y_train)\n",
    "X_valid, y_valid = reformat(X_valid, y_valid)\n",
    "X_test, y_test = reformat(X_test, y_test)\n",
    "\n",
    "print(\"Training set dimensions:\", X_train.shape, y_train.shape)\n",
    "print(\"Validation set dimensions:\", X_valid.shape, y_valid.shape)\n",
    "print(\"Testing set dimensions:\", X_test.shape, y_test.shape)"
   ]
  },
  {
   "cell_type": "code",
   "execution_count": 5,
   "metadata": {
    "collapsed": false
   },
   "outputs": [
    {
     "name": "stdout",
     "output_type": "stream",
     "text": [
      "[128, 2, 2, 64]\n",
      "[6000, 2, 2, 64]\n",
      "[26032, 2, 2, 64]\n"
     ]
    }
   ],
   "source": [
    "# Convolutional Neural Network Architecture\n",
    "\n",
    "batch_size = 128\n",
    "patch_size = 5\n",
    "depth_1 = 8\n",
    "depth_2 = 16\n",
    "depth_3 = 32\n",
    "num_hidden_1 = 64\n",
    "num_hidden_2 = 32\n",
    "\n",
    "graph = tf.Graph()\n",
    "\n",
    "with graph.as_default():\n",
    "\n",
    "    # Input data.\n",
    "    tf_train_dataset = tf.placeholder(\n",
    "        tf.float32, shape=(batch_size, img_size, img_size, num_channels))\n",
    "    tf_train_labels = tf.placeholder(tf.float32, shape=(batch_size, num_labels))\n",
    "    tf_valid_dataset = tf.constant(X_valid)\n",
    "    tf_test_dataset = tf.constant(X_test)\n",
    "\n",
    "    # Helper functions for convolution and pooling\n",
    "    def conv2d(x, W):\n",
    "        return tf.nn.conv2d(x, W, strides=[1, 1, 1, 1], padding='SAME')\n",
    "    \n",
    "    def conv2d_s2(x, W):\n",
    "        return tf.nn.conv2d(x, W, strides=[1, 2, 2, 1], padding='SAME')\n",
    "\n",
    "    def max_pool_2x2(x):\n",
    "        return tf.nn.max_pool(x, ksize=[1, 2, 2, 1], \n",
    "                              strides=[1, 2, 2, 1], padding='SAME')\n",
    "    \n",
    "    # Variables.\n",
    "    W_conv_1 = tf.Variable(tf.truncated_normal([5, 5, 1, 8], stddev=0.1))\n",
    "    b_conv_1 = tf.Variable(tf.zeros([8]))\n",
    "    W_conv_2 = tf.Variable(tf.truncated_normal([5, 5, 8, 16], stddev=0.1))\n",
    "    b_conv_2 = tf.Variable(tf.constant(1.0, shape=[16]))\n",
    "    W_conv_3 = tf.Variable(tf.truncated_normal([5, 5, 16, 32], stddev=0.1))\n",
    "    b_conv_3 = tf.Variable(tf.constant(1.0, shape=[32]))\n",
    "    W_conv_4 = tf.Variable(tf.truncated_normal([3, 3, 32, 64], stddev=0.1))\n",
    "    b_conv_4 = tf.Variable(tf.constant(1.0, shape=[64]))\n",
    "    \n",
    "    W_fc_1 = tf.Variable(tf.truncated_normal([256, 128], stddev=0.1))\n",
    "    b_fc_1 = tf.Variable(tf.constant(1.0, shape=[128]))\n",
    "    W_fc_2 = tf.Variable(tf.truncated_normal([128, 10], stddev=0.1))\n",
    "    b_fc_2 = tf.Variable(tf.constant(1.0, shape=[10]))\n",
    "\n",
    "    # Model.\n",
    "    def model(data, keep_prob):\n",
    "        conv = conv2d(data, W_conv_1)\n",
    "        hidden = tf.nn.relu(conv + b_conv_1)\n",
    "        sub = max_pool_2x2(hidden)\n",
    "        conv = conv2d(sub, W_conv_2)\n",
    "        hidden = tf.nn.relu(conv + b_conv_2)\n",
    "        sub = max_pool_2x2(hidden)\n",
    "        conv = conv2d(sub, W_conv_3)\n",
    "        hidden = tf.nn.relu(conv + b_conv_3)\n",
    "        sub = max_pool_2x2(hidden)\n",
    "        conv = conv2d(sub, W_conv_4)\n",
    "        hidden = tf.nn.relu(conv + b_conv_4)\n",
    "        sub = max_pool_2x2(hidden)\n",
    "        drop = tf.nn.dropout(sub, keep_prob)\n",
    "    \n",
    "        shape = drop.get_shape().as_list()\n",
    "        print(shape)\n",
    "        reshape = tf.reshape(drop, [shape[0], shape[1] * shape[2] * shape[3]])\n",
    "        drop = tf.nn.relu(tf.matmul(reshape, W_fc_1) + b_fc_1)\n",
    "        return tf.matmul(drop, W_fc_2) + b_fc_2\n",
    "    \n",
    "    \n",
    "    \n",
    "    # Training computation.\n",
    "    keep_prob = 0.5\n",
    "    logits = model(tf_train_dataset, keep_prob)\n",
    "    loss = tf.reduce_mean(\n",
    "        tf.nn.softmax_cross_entropy_with_logits(logits, tf_train_labels))\n",
    "\n",
    "    # Optimizer.\n",
    "    global_step = tf.Variable(0)\n",
    "    starter_learning_rate = 0.001\n",
    "    # Decay factor of 0.95 after every 1000 steps.\n",
    "    learning_rate = tf.train.exponential_decay(starter_learning_rate, global_step, 1000, 0.95)\n",
    "    optimizer = tf.train.AdamOptimizer(learning_rate).minimize(loss, global_step=global_step)\n",
    "\n",
    "    # Predictions for the training, validation, and test data.\n",
    "    train_prediction = tf.nn.softmax(logits)\n",
    "    valid_prediction = tf.nn.softmax(model(tf_valid_dataset, 1.0)) # Turn off Dropout (keep_prob = 1.0)\n",
    "    test_prediction = tf.nn.softmax(model(tf_test_dataset, 1.0)) # Turn off Dropout (keep_prob = 1.0)"
   ]
  },
  {
   "cell_type": "code",
   "execution_count": 6,
   "metadata": {
    "collapsed": false
   },
   "outputs": [
    {
     "name": "stdout",
     "output_type": "stream",
     "text": [
      "Initialized\n",
      "Minibatch loss at step 0: 165.010071\n",
      "Minibatch accuracy: 9.4%\n",
      "Validation accuracy: 13.6%\n",
      "Minibatch loss at step 1000: 1.278368\n",
      "Minibatch accuracy: 56.2%\n",
      "Validation accuracy: 70.4%\n",
      "Minibatch loss at step 2000: 0.830801\n",
      "Minibatch accuracy: 71.1%\n",
      "Validation accuracy: 82.0%\n",
      "Minibatch loss at step 3000: 0.858654\n",
      "Minibatch accuracy: 69.5%\n",
      "Validation accuracy: 84.7%\n",
      "Minibatch loss at step 4000: 0.581120\n",
      "Minibatch accuracy: 83.6%\n",
      "Validation accuracy: 86.7%\n",
      "Minibatch loss at step 5000: 0.796582\n",
      "Minibatch accuracy: 76.6%\n",
      "Validation accuracy: 88.5%\n",
      "Minibatch loss at step 6000: 0.466583\n",
      "Minibatch accuracy: 87.5%\n",
      "Validation accuracy: 89.2%\n",
      "Minibatch loss at step 7000: 0.448171\n",
      "Minibatch accuracy: 85.9%\n",
      "Validation accuracy: 90.1%\n",
      "Minibatch loss at step 8000: 0.395155\n",
      "Minibatch accuracy: 87.5%\n",
      "Validation accuracy: 90.6%\n",
      "Minibatch loss at step 9000: 0.454451\n",
      "Minibatch accuracy: 86.7%\n",
      "Validation accuracy: 90.9%\n",
      "Minibatch loss at step 10000: 0.433170\n",
      "Minibatch accuracy: 86.7%\n",
      "Validation accuracy: 92.1%\n",
      "Minibatch loss at step 11000: 0.354179\n",
      "Minibatch accuracy: 91.4%\n",
      "Validation accuracy: 91.8%\n",
      "Minibatch loss at step 12000: 0.391480\n",
      "Minibatch accuracy: 86.7%\n",
      "Validation accuracy: 92.3%\n",
      "Minibatch loss at step 13000: 0.239442\n",
      "Minibatch accuracy: 91.4%\n",
      "Validation accuracy: 92.2%\n",
      "Minibatch loss at step 14000: 0.365582\n",
      "Minibatch accuracy: 89.1%\n",
      "Validation accuracy: 92.5%\n",
      "Minibatch loss at step 15000: 0.270571\n",
      "Minibatch accuracy: 90.6%\n",
      "Validation accuracy: 92.8%\n",
      "Minibatch loss at step 16000: 0.412160\n",
      "Minibatch accuracy: 89.8%\n",
      "Validation accuracy: 92.5%\n",
      "Minibatch loss at step 17000: 0.215958\n",
      "Minibatch accuracy: 92.2%\n",
      "Validation accuracy: 92.6%\n",
      "Minibatch loss at step 18000: 0.292222\n",
      "Minibatch accuracy: 91.4%\n",
      "Validation accuracy: 92.8%\n",
      "Minibatch loss at step 19000: 0.373012\n",
      "Minibatch accuracy: 89.1%\n",
      "Validation accuracy: 92.6%\n",
      "Minibatch loss at step 20000: 0.351793\n",
      "Minibatch accuracy: 86.7%\n",
      "Validation accuracy: 92.9%\n",
      "Minibatch loss at step 21000: 0.242921\n",
      "Minibatch accuracy: 93.0%\n",
      "Validation accuracy: 93.1%\n",
      "Minibatch loss at step 22000: 0.190815\n",
      "Minibatch accuracy: 93.8%\n",
      "Validation accuracy: 93.0%\n",
      "Minibatch loss at step 23000: 0.134826\n",
      "Minibatch accuracy: 96.9%\n",
      "Validation accuracy: 93.3%\n",
      "Minibatch loss at step 24000: 0.194839\n",
      "Minibatch accuracy: 95.3%\n",
      "Validation accuracy: 93.0%\n",
      "Minibatch loss at step 25000: 0.214307\n",
      "Minibatch accuracy: 90.6%\n",
      "Validation accuracy: 93.1%\n",
      "Minibatch loss at step 26000: 0.284930\n",
      "Minibatch accuracy: 90.6%\n",
      "Validation accuracy: 93.1%\n",
      "Minibatch loss at step 27000: 0.221529\n",
      "Minibatch accuracy: 92.2%\n",
      "Validation accuracy: 93.3%\n",
      "Minibatch loss at step 28000: 0.092448\n",
      "Minibatch accuracy: 96.9%\n",
      "Validation accuracy: 93.2%\n",
      "Minibatch loss at step 29000: 0.185584\n",
      "Minibatch accuracy: 93.8%\n",
      "Validation accuracy: 93.0%\n",
      "Minibatch loss at step 30000: 0.236340\n",
      "Minibatch accuracy: 93.0%\n",
      "Validation accuracy: 92.9%\n",
      "Test accuracy: 90.3%\n",
      "Total run time: 68.2 min\n"
     ]
    }
   ],
   "source": [
    "num_steps = 30001\n",
    "saver = tf.train.Saver()\n",
    "\n",
    "with tf.Session(graph=graph) as session:\n",
    "    tf.initialize_all_variables().run()\n",
    "    print('Initialized')\n",
    "    from time import time\n",
    "    t0 = time()\n",
    "    \n",
    "    for step in range(num_steps):\n",
    "        # Split training data according to batch size.\n",
    "        offset = (step * batch_size) % (y_train.shape[0] - batch_size)\n",
    "        batch_data = X_train[offset:(offset + batch_size), :, :, :]\n",
    "        batch_labels = y_train[offset:(offset + batch_size), :]\n",
    "        feed_dict = {tf_train_dataset : batch_data, tf_train_labels : batch_labels}\n",
    "        \n",
    "        # Run the model\n",
    "        _, l, predictions = session.run(\n",
    "          [optimizer, loss, train_prediction], feed_dict=feed_dict)\n",
    "        if (step % 1000 == 0):\n",
    "            print('Minibatch loss at step %d: %f' % (step, l))\n",
    "            print('Minibatch accuracy: %.1f%%' % accuracy(predictions, batch_labels))\n",
    "            print('Validation accuracy: %.1f%%' % accuracy(\n",
    "                    valid_prediction.eval(), y_valid))\n",
    "            \n",
    "    print('Test accuracy: %.1f%%' % accuracy(test_prediction.eval(), y_test))\n",
    "    print(\"Total run time:\", round(((time()-t0)/60), 1), \"min\")\n",
    "    # Saves model for later use.\n",
    "    save_path = saver.save(session, 'CNN_model_single.ckpt')\n",
    "    print(\"Model saved in file: %s\" % save_path)"
   ]
  },
  {
   "cell_type": "code",
   "execution_count": null,
   "metadata": {
    "collapsed": true
   },
   "outputs": [],
   "source": []
  }
 ],
 "metadata": {
  "kernelspec": {
   "display_name": "Python 2",
   "language": "python",
   "name": "python2"
  },
  "language_info": {
   "codemirror_mode": {
    "name": "ipython",
    "version": 2
   },
   "file_extension": ".py",
   "mimetype": "text/x-python",
   "name": "python",
   "nbconvert_exporter": "python",
   "pygments_lexer": "ipython2",
   "version": "2.7.6"
  }
 },
 "nbformat": 4,
 "nbformat_minor": 1
}
